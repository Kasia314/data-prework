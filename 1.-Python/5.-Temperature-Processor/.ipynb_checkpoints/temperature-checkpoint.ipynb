{
 "cells": [
  {
   "cell_type": "markdown",
   "metadata": {},
   "source": [
    "<img src=\"https://bit.ly/2VnXWr2\" width=\"100\" align=\"left\">"
   ]
  },
  {
   "cell_type": "markdown",
   "metadata": {},
   "source": [
    "# Temperature Sensor\n",
    "\n",
    "There is a temperature sensor in the processor of your company's server. The company wants to analyze the data provided by the sensor to decide if they should change the cooling system for a better one. As changing the cooling system is expensive and you are an excellent data analyst, you can't make a decision without basis.\n",
    "\n",
    "## Tools\n",
    "You don't necessarily need to use all the tools. Maybe you opt to use some of them or completely different ones, they are given to help you shape the exercise. Programming exercises can be solved in many different ways.\n",
    "1. Data structures: **lists**\n",
    "2. Loops: **list comprehension**\n",
    "3. Functions: **min, max, print, len**\n",
    "4. Conditional statements: **if-elif-else**\n",
    "\n",
    "## Tasks\n",
    "The temperatures measured throughout the 24 hours of a day are:"
   ]
  },
  {
   "cell_type": "code",
   "execution_count": 2,
   "metadata": {},
   "outputs": [],
   "source": [
    "temperatures_C = [33, 66, 65, 0, 59, 60, 62, 64, 70, 76, 80, 81, 80, 83, 90, 79, 61, 53, 50, 49, 53, 48, 45, 39]"
   ]
  },
  {
   "cell_type": "markdown",
   "metadata": {},
   "source": [
    "The first element of the list is the temperature at 12am, the second element is the temperature at 1am, and so on. \n",
    "\n",
    "The company has decided that if one of the following events occurs, then the cooling system needs to be replaced for a new one to avoid damaging the processor.\n",
    "* More than 4 temperatures are greater than or equal to 70ºC.\n",
    "* Any temperature is above 80ºC.\n",
    "* The average temperature exceeds 65ºC.\n",
    "\n",
    "Follow the steps so that you can make the decision.\n",
    "\n",
    "#### 1. Find the minimum temperature of the day and store it in a variable."
   ]
  },
  {
   "cell_type": "code",
   "execution_count": 8,
   "metadata": {},
   "outputs": [
    {
     "name": "stdout",
     "output_type": "stream",
     "text": [
      "0\n"
     ]
    }
   ],
   "source": [
    "min = min(temperatures_C)\n",
    "print(min)"
   ]
  },
  {
   "cell_type": "markdown",
   "metadata": {},
   "source": [
    "#### 2. Find the maximum temperature of the day and store it in a variable."
   ]
  },
  {
   "cell_type": "code",
   "execution_count": 9,
   "metadata": {},
   "outputs": [
    {
     "name": "stdout",
     "output_type": "stream",
     "text": [
      "90\n"
     ]
    }
   ],
   "source": [
    "max = max(temperatures_C)\n",
    "print(max)"
   ]
  },
  {
   "cell_type": "markdown",
   "metadata": {},
   "source": [
    "#### 3. Create a list with the temperatures that are greater than or equal to 70ºC. Store it in a variable."
   ]
  },
  {
   "cell_type": "code",
   "execution_count": 10,
   "metadata": {},
   "outputs": [
    {
     "name": "stdout",
     "output_type": "stream",
     "text": [
      "[70, 76, 80, 81, 80, 83, 90, 79]\n"
     ]
    }
   ],
   "source": [
    "high_temps = [temp for temp in temperatures_C if temp >= 70]\n",
    "print(high_temps)"
   ]
  },
  {
   "cell_type": "markdown",
   "metadata": {},
   "source": [
    "#### 4. Find the average temperature of the day and store it in a variable."
   ]
  },
  {
   "cell_type": "code",
   "execution_count": 11,
   "metadata": {},
   "outputs": [
    {
     "name": "stdout",
     "output_type": "stream",
     "text": [
      "60.25\n"
     ]
    }
   ],
   "source": [
    "avg = sum(temperatures_C) / len(temperatures_C)\n",
    "print(avg)"
   ]
  },
  {
   "cell_type": "markdown",
   "metadata": {},
   "source": [
    "#### 5. Imagine that there was a sensor failure at 3am and the data for that specific hour was not recorded. How would you estimate the missing value? Replace the current value of the list at 3am for an estimation. "
   ]
  },
  {
   "cell_type": "code",
   "execution_count": 9,
   "metadata": {},
   "outputs": [
    {
     "name": "stdout",
     "output_type": "stream",
     "text": [
      "[33, 66, 65, 0, 59, 60, 62, 64, 70, 76, 80, 81, 80, 83, 90, 75.5, 61, 53, 50, 49, 53, 48, 45, 39]\n",
      "New data with estimated value: [33, 66, 65, 0, 59, 60, 62, 64, 70, 76, 80, 81, 80, 83, 90, 75.5, 61, 53, 50, 49, 53, 48, 45, 39]\n",
      "normal data: [33, 66, 65, 0, 59, 60, 62, 64, 70, 76, 80, 81, 80, 83, 90, 79, 61, 53, 50, 49, 53, 48, 45, 39]\n"
     ]
    }
   ],
   "source": [
    "temperatures_C[15] = (temperatures_C[16] + temperatures_C[14]) / 2\n",
    "print(\"New data with estimated value:\", temperatures_C)\n",
    "#going back to normal list for next exercices:\n",
    "temperatures_C = [33, 66, 65, 0, 59, 60, 62, 64, 70, 76, 80, 81, 80, 83, 90, 79, 61, 53, 50, 49, 53, 48, 45, 39]\n",
    "print(\"normal data:\", temperatures_C)"
   ]
  },
  {
   "cell_type": "markdown",
   "metadata": {},
   "source": [
    "#### 6. Bonus: the maintenance staff is from the United States and does not understand the international metric system. Help them by converting the temperatures from Celsius to Fahrenheit.\n",
    "To know more about temperature conversion check this [link](https://en.wikipedia.org/wiki/Conversion_of_units_of_temperature).\n",
    "\n",
    "**Formula**: \n",
    "\n",
    "$F = 1.8 * C + 32$"
   ]
  },
  {
   "cell_type": "code",
   "execution_count": 15,
   "metadata": {},
   "outputs": [
    {
     "name": "stdout",
     "output_type": "stream",
     "text": [
      "[91.4, 150.8, 149.0, 32.0, 138.2, 140.0, 143.60000000000002, 147.2, 158.0, 168.8, 176.0, 177.8, 176.0, 181.4, 194.0, 174.20000000000002, 141.8, 127.4, 122.0, 120.2, 127.4, 118.4, 113.0, 102.2]\n"
     ]
    }
   ],
   "source": [
    "temperatures_F = [temp*1.8+32 for temp in temperatures_C]\n",
    "print(temperatures_F)"
   ]
  },
  {
   "cell_type": "markdown",
   "metadata": {},
   "source": [
    "#### 7. Make a decision!\n",
    "Now it's time to make a decision taking into account what you have seen until now. \n",
    "\n",
    "Remember that if one of the following events occurs, then the cooling system needs to be replaced for a new one to avoid damaging the processor.\n",
    "* More than 4 temperatures are greater than or equal to 70ºC.\n",
    "* Any temperature is above 80ºC.\n",
    "* The average temperature exceeds 65ºC.\n",
    "\n",
    "#### To make your decision, check if any of the three conditions above is met. You might need to use some of the variables you created in steps 1 to 6. Print a message to show if the cooling system needs to be changed or not."
   ]
  },
  {
   "cell_type": "code",
   "execution_count": 16,
   "metadata": {},
   "outputs": [
    {
     "name": "stdout",
     "output_type": "stream",
     "text": [
      "The cooling system needs to be changed.\n"
     ]
    }
   ],
   "source": [
    "if len(high_temps)>4 or max>80 or avg>65:\n",
    "    print(\"The cooling system needs to be changed.\")\n",
    "else:\n",
    "    print(\"The cooling system is good, no need to change it.\")    "
   ]
  },
  {
   "cell_type": "markdown",
   "metadata": {},
   "source": [
    "## Bonus\n",
    "\n",
    "The company has decided that the decision you made is not valid. They want you to analyze the data again but this time, the conditions that need to be met in order to change the cooling system are different.\n",
    "\n",
    "This time, if one of the following events occurs, then the cooling system needs to be replaced:\n",
    "* The temperature is greater than 70ºC during more than 4 consecutive hours.\n",
    "* Any temperature is above 80ºC.\n",
    "* The average temperature exceeds 65ºC.\n",
    "\n",
    "Follow the steps so that you can make the decision.\n",
    "\n",
    "#### 1. Create a list with the hours where the temperature is greater than 70ºC. Store it in a variable."
   ]
  },
  {
   "cell_type": "code",
   "execution_count": 42,
   "metadata": {},
   "outputs": [
    {
     "name": "stdout",
     "output_type": "stream",
     "text": [
      "Indexes in temperatures_C where temp is higer than 70C: [9, 10, 11, 12, 13, 14, 15]\n",
      "Hours where the temperature is greater than 70C: [21, 22, 23, 24, 1, 2, 3]\n"
     ]
    }
   ],
   "source": [
    "indexes = []\n",
    "i = 0\n",
    "\n",
    "while i < len(temperatures_C):\n",
    "    if temperatures_C[i]>70:\n",
    "        indexes.append(i)\n",
    "    i +=1\n",
    "print(\"Indexes in temperatures_C where temp is higer than 70C:\", indexes)\n",
    "\n",
    "hours_high_temps_1 = [index+12 for index in indexes if index <= 12]\n",
    "hours_high_temps_2 = [index-12 for index in indexes if index > 12]\n",
    "hours_high_temps = hours_high_temps_1 + hours_high_temps_2\n",
    "print(\"Hours where the temperature is greater than 70C:\",hours_high_temps)\n"
   ]
  },
  {
   "cell_type": "markdown",
   "metadata": {},
   "source": [
    "#### 2. Check if the list you created in step 1 has more than 4 consecutive hours. "
   ]
  },
  {
   "cell_type": "code",
   "execution_count": 49,
   "metadata": {},
   "outputs": [
    {
     "name": "stdout",
     "output_type": "stream",
     "text": [
      "There is more than 4 cosecutive hours of temp. grater than 70C\n"
     ]
    }
   ],
   "source": [
    "i = 0\n",
    "a = 0\n",
    "while i < 3:\n",
    "    if indexes[i+4] - indexes[i] >= 4:\n",
    "        a += 1\n",
    "    i +=1\n",
    "\n",
    "if a >=1:\n",
    "    print(\"There is more than 4 cosecutive hours of temp. grater than 70C\")\n",
    "else:\n",
    "    print(\"There is no more than 4 cosecutive hours of temp. grater than 70C\")\n",
    "    "
   ]
  },
  {
   "cell_type": "markdown",
   "metadata": {},
   "source": [
    "#### 3. Make the decision!\n",
    "To make your decision, check if any of the three conditions is met. Print a message to show if the cooling system needs to be changed or not."
   ]
  },
  {
   "cell_type": "code",
   "execution_count": 50,
   "metadata": {},
   "outputs": [
    {
     "name": "stdout",
     "output_type": "stream",
     "text": [
      "The cooling system needs to be changed.\n"
     ]
    }
   ],
   "source": [
    "if a>=1 or max>80 or avg>65:\n",
    "    print(\"The cooling system needs to be changed.\")\n",
    "else:\n",
    "    print(\"The cooling system is good, no need to change it.\") "
   ]
  },
  {
   "cell_type": "markdown",
   "metadata": {},
   "source": [
    "#### 4. Find the average value of the temperature lists (ºC and ºF). What is the relation between both average values?"
   ]
  },
  {
   "cell_type": "code",
   "execution_count": 96,
   "metadata": {},
   "outputs": [
    {
     "name": "stdout",
     "output_type": "stream",
     "text": [
      "AvgC is: 60.25\n",
      "AvgF is: 140.45\n",
      "AvgF is equal to AvgC*1,8+32. Avg changes the same way the values change.\n"
     ]
    }
   ],
   "source": [
    "avg_C = sum(temperatures_C) / len(temperatures_C)\n",
    "avg_F = sum(temperatures_F) / len(temperatures_F)\n",
    "print(\"AvgC is:\",avg_C)\n",
    "print(\"AvgF is:\",avg_F)\n",
    "\n",
    "if 1.8*avg_C+32 == avg_F:\n",
    "    print(\"AvgF is equal to AvgC*1,8+32. Avg changes the same way the values change.\")"
   ]
  },
  {
   "cell_type": "markdown",
   "metadata": {},
   "source": [
    "#### 5. Find the standard deviation of the temperature lists (ºC and ºF). What is the relation between both standard deviations?"
   ]
  },
  {
   "cell_type": "code",
   "execution_count": 55,
   "metadata": {},
   "outputs": [
    {
     "name": "stdout",
     "output_type": "stream",
     "text": [
      "Temperatures in C: [33, 66, 65, 0, 59, 60, 62, 64, 70, 76, 80, 81, 80, 83, 90, 79, 61, 53, 50, 49, 53, 48, 45, 39]\n",
      "AvgC is: 60.25\n",
      "Temperatures in F: [91.4, 150.8, 149.0, 32.0, 138.2, 140.0, 143.60000000000002, 147.2, 158.0, 168.8, 176.0, 177.8, 176.0, 181.4, 194.0, 174.20000000000002, 141.8, 127.4, 122.0, 120.2, 127.4, 118.4, 113.0, 102.2]\n",
      "AvgF is: 140.45\n"
     ]
    }
   ],
   "source": [
    "print(\"Temperatures in C:\",temperatures_C)\n",
    "print(\"AvgC is:\",avg_C)\n",
    "print(\"Temperatures in F:\",temperatures_F)\n",
    "print(\"AvgF is:\",avg_F)"
   ]
  },
  {
   "cell_type": "code",
   "execution_count": 98,
   "metadata": {},
   "outputs": [
    {
     "name": "stdout",
     "output_type": "stream",
     "text": [
      "sqrd sing dev C: [742.5625, 33.0625, 22.5625, 3630.0625, 1.5625, 0.0625, 3.0625, 14.0625, 95.0625, 248.0625, 390.0625, 430.5625, 390.0625, 517.5625, 885.0625, 351.5625, 0.5625, 52.5625, 105.0625, 126.5625, 52.5625, 150.0625, 232.5625, 451.5625] \n",
      "\n",
      "sqrd sing dev F: [2405.9024999999983, 107.12250000000047, 73.10250000000019, 11761.402499999998, 5.0625, 0.20249999999998977, 9.922500000000214, 45.5625, 308.0025000000004, 803.7225000000013, 1263.802500000001, 1395.0225000000016, 1263.802500000001, 1676.9025000000015, 2867.6025000000013, 1139.0625000000018, 1.8225000000000613, 170.30249999999955, 340.4024999999996, 410.06249999999943, 170.30249999999955, 486.20249999999925, 753.5024999999994, 1463.0624999999989] \n",
      "\n"
     ]
    }
   ],
   "source": [
    "sqrd_sing_dev_C = []\n",
    "sqrd_sing_dev_F = []\n",
    "i = 0\n",
    "import math\n",
    "\n",
    "while i < len(temperatures_C):\n",
    "    sqrd_sing_dev_C.append((temperatures_C[i]-avg_C)**2)\n",
    "    sqrd_sing_dev_F.append((temperatures_F[i]-avg_F)**2)\n",
    "    i += 1\n",
    "\n",
    "print(\"sqrd sing dev C:\",sqrd_sing_dev_C,\"\\n\")\n",
    "print(\"sqrd sing dev F:\",sqrd_sing_dev_F,\"\\n\")"
   ]
  },
  {
   "cell_type": "code",
   "execution_count": 76,
   "metadata": {},
   "outputs": [
    {
     "name": "stdout",
     "output_type": "stream",
     "text": [
      "Standard deviation of temperatures in Celsius is: 19.285681216902866\n",
      "Standard deviation of temperatures in Fahrenheit is: 34.71422619042516\n"
     ]
    }
   ],
   "source": [
    "stnd_dev_C = math.sqrt(sum(sqrd_sing_dev_C)/len(sqrd_sing_dev_C))\n",
    "stnd_dev_F = math.sqrt(sum(sqrd_sing_dev_F)/len(sqrd_sing_dev_F))\n",
    "print(\"Standard deviation of temperatures in Celsius is:\",stnd_dev_C)\n",
    "print(\"Standard deviation of temperatures in Fahrenheit is:\",stnd_dev_F)"
   ]
  },
  {
   "cell_type": "code",
   "execution_count": 92,
   "metadata": {
    "scrolled": true
   },
   "outputs": [
    {
     "name": "stdout",
     "output_type": "stream",
     "text": [
      "stnd_dev_F is equal to stnd_dev_C*1,8, it doesnt matter the '+32' \n",
      "\n",
      "Adding a number to each value in a list doesn't change its 'spread', bc each value is changing of the same number. \n",
      "However multiplying the values with a number change the spread bc smaller values change of the smaller number that higher values. Because the spread is growing with multiplying, the stnd_dev is growing too in the same way.\n"
     ]
    }
   ],
   "source": [
    "if 1.8*stnd_dev_C == stnd_dev_F:\n",
    "    print(\"stnd_dev_F is equal to stnd_dev_C*1,8, it doesnt matter the '+32' \\n\")\n",
    "    print(\"Adding a number to each value in a list doesn't change its 'spread', bc each value is changing of the same number. So it doesn't influence stnd_dev. \\nHowever multiplying the values with a number change the spread bc smaller values change of the smaller number than higher values. Because the spread is growing with multiplying, the stnd_dev is growing too in the same way.\")\n"
   ]
  },
  {
   "cell_type": "code",
   "execution_count": null,
   "metadata": {},
   "outputs": [],
   "source": []
  },
  {
   "cell_type": "code",
   "execution_count": null,
   "metadata": {},
   "outputs": [],
   "source": []
  }
 ],
 "metadata": {
  "kernelspec": {
   "display_name": "Python 3",
   "language": "python",
   "name": "python3"
  },
  "language_info": {
   "codemirror_mode": {
    "name": "ipython",
    "version": 3
   },
   "file_extension": ".py",
   "mimetype": "text/x-python",
   "name": "python",
   "nbconvert_exporter": "python",
   "pygments_lexer": "ipython3",
   "version": "3.7.6"
  }
 },
 "nbformat": 4,
 "nbformat_minor": 2
}
