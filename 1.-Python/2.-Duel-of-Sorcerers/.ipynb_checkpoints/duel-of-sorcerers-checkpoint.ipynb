{
 "cells": [
  {
   "cell_type": "markdown",
   "metadata": {},
   "source": [
    "<img src=\"https://bit.ly/2VnXWr2\" width=\"100\" align=\"left\">"
   ]
  },
  {
   "cell_type": "markdown",
   "metadata": {},
   "source": [
    "# Duel of Sorcerers\n",
    "You are witnessing an epic battle between two powerful sorcerers: Gandalf and Saruman. Each sorcerer has 10 spells of variable power in their mind and they are going to throw them one after the other. The winner of the duel will be the one who wins more of those clashes between spells. Spells are represented as a list of 10 integers whose value equals the power of the spell.\n",
    "```\n",
    "gandalf = [10, 11, 13, 30, 22, 11, 10, 33, 22, 22]\n",
    "saruman = [23, 66, 12, 43, 12, 10, 44, 23, 12, 17]\n",
    "```\n",
    "For example:\n",
    "- The first clash is won by Saruman: 10 against 23.\n",
    "- The second clash is won by Saruman: 11 against 66.\n",
    "- ...\n",
    "\n",
    "You will create two variables, one for each sorcerer, where the sum of clashes won will be stored. Depending on which variable is greater at the end of the duel, you will show one of the following three results on the screen:\n",
    "* Gandalf wins\n",
    "* Saruman wins\n",
    "* Tie\n",
    "\n",
    "<img src=\"images/content_lightning_bolt_big.jpg\" width=\"400\">"
   ]
  },
  {
   "cell_type": "markdown",
   "metadata": {},
   "source": [
    "## Tools\n",
    "You don't necessarily need to use all the tools. Maybe you opt to use some of them or completely different ones, they are given to help you shape the exercise. Programming exercises can be solved in many different ways.\n",
    "\n",
    "1. Data structures: **lists, dictionaries**\n",
    "2. Loop: **for loop**\n",
    "3. Conditional statements: **if-elif-else**\n",
    "4. Functions: **range(), len(), print()**\n",
    "\n",
    "## Tasks\n",
    "\n",
    "#### 1. Create two variables called `gandalf` and `saruman` and assign them the spell power lists. Create a variable called `spells` to store the number of spells that the sorcerers cast. "
   ]
  },
  {
   "cell_type": "code",
   "execution_count": 2,
   "metadata": {},
   "outputs": [],
   "source": [
    "gandalf = [10, 11, 13, 30, 22, 11, 10, 33, 22, 22]\n",
    "saruman = [23, 66, 12, 43, 12, 10, 44, 23, 12, 17]"
   ]
  },
  {
   "cell_type": "markdown",
   "metadata": {},
   "source": [
    "#### 2. Create two variables called `gandalf_wins` and `saruman_wins`. Set both of them to 0. \n",
    "You will use these variables to count the number of clashes each sorcerer wins. "
   ]
  },
  {
   "cell_type": "code",
   "execution_count": 3,
   "metadata": {},
   "outputs": [],
   "source": [
    "gandalf_wins = 0\n",
    "saruman_wins = 0"
   ]
  },
  {
   "cell_type": "markdown",
   "metadata": {},
   "source": [
    "#### 3. Using the lists of spells of both sorcerers, update variables `gandalf_wins` and `saruman_wins` to count the number of times each sorcerer wins a clash. "
   ]
  },
  {
   "cell_type": "code",
   "execution_count": 5,
   "metadata": {},
   "outputs": [],
   "source": [
    "i = 0\n",
    "\n",
    "while i < len(gandalf):\n",
    "    \n",
    "    if gandalf[i] > saruman[i]:\n",
    "        gandalf_wins += 1\n",
    "        i +=1\n",
    "    elif gandalf[i] < saruman[i]:\n",
    "        saruman_wins +=1\n",
    "        i +=1\n",
    "    else:\n",
    "        i +=1\n",
    "\n",
    "    "
   ]
  },
  {
   "cell_type": "markdown",
   "metadata": {},
   "source": [
    "#### 4. Who won the battle?\n",
    "Print `Gandalf wins`, `Saruman wins` or `Tie` depending on the result. "
   ]
  },
  {
   "cell_type": "code",
   "execution_count": 6,
   "metadata": {},
   "outputs": [
    {
     "name": "stdout",
     "output_type": "stream",
     "text": [
      "Gandalf wins: 6\n",
      "Saruman wins: 4\n",
      "Gandalf wins the battle\n"
     ]
    }
   ],
   "source": [
    "print(\"Gandalf wins:\", gandalf_wins)\n",
    "print(\"Saruman wins:\", saruman_wins)\n",
    "\n",
    "if gandalf_wins > saruman_wins:\n",
    "    print(\"Gandalf wins the battle\")\n",
    "elif gandalf_wins < saruman_wins:\n",
    "    print(\"Saruman wins the battle\")\n",
    "else:\n",
    "    print(\"Tie in the battle\")"
   ]
  },
  {
   "cell_type": "markdown",
   "metadata": {},
   "source": [
    "## Bonus\n",
    "\n",
    "In this bonus challenge, you'll need to check the winner of the battle but this time, a sorcerer wins if he succeeds in winning 3 spell clashes in a row.\n",
    "\n",
    "Also, the spells now have a name and there is a dictionary that associates that name to a power.\n",
    "\n",
    "```\n",
    "POWER = {\n",
    "    'Fireball': 50, \n",
    "    'Lightning bolt': 40, \n",
    "    'Magic arrow': 10, \n",
    "    'Black Tentacles': 25, \n",
    "    'Contagion': 45\n",
    "}\n",
    "\n",
    "gandalf = ['Fireball', 'Lightning bolt', 'Lightning bolt', 'Magic arrow', 'Fireball', \n",
    "           'Magic arrow', 'Lightning bolt', 'Fireball', 'Fireball', 'Fireball']\n",
    "saruman = ['Contagion', 'Contagion', 'Black Tentacles', 'Fireball', 'Black Tentacles', \n",
    "           'Lightning bolt', 'Magic arrow', 'Contagion', 'Magic arrow', 'Magic arrow']\n",
    "```\n",
    "\n",
    "#### 1. Create variables `POWER`, `gandalf` and `saruman` as seen above. Create a variable called `spells` to store the number of spells that the sorcerers cast. "
   ]
  },
  {
   "cell_type": "code",
   "execution_count": 44,
   "metadata": {},
   "outputs": [],
   "source": [
    "POWER = {\n",
    "    'Fireball': 50, \n",
    "    'Lightning bolt': 40, \n",
    "    'Magic arrow': 10, \n",
    "    'Black Tentacles': 25, \n",
    "    'Contagion': 45\n",
    "}\n",
    "gandalf = ['Fireball', 'Lightning bolt', 'Lightning bolt', 'Magic arrow', 'Fireball', \n",
    "           'Magic arrow', 'Lightning bolt', 'Fireball', 'Fireball', 'Fireball']\n",
    "saruman = ['Contagion', 'Contagion', 'Black Tentacles', 'Fireball', 'Black Tentacles', \n",
    "           'Lightning bolt', 'Magic arrow', 'Contagion', 'Magic arrow', 'Magic arrow']\n",
    "spells = 0"
   ]
  },
  {
   "cell_type": "markdown",
   "metadata": {},
   "source": [
    "#### 2. Create two variables called `gandalf_wins` and `saruman_wins`. Set both of them to 0. "
   ]
  },
  {
   "cell_type": "code",
   "execution_count": 45,
   "metadata": {},
   "outputs": [],
   "source": [
    "gandalf_wins = 0\n",
    "saruman_wins = 0"
   ]
  },
  {
   "cell_type": "markdown",
   "metadata": {},
   "source": [
    "#### 3. Create two variables called `gandalf_power` and `saruman_power` to store the list of spell powers of each sorcerer."
   ]
  },
  {
   "cell_type": "code",
   "execution_count": 46,
   "metadata": {},
   "outputs": [],
   "source": [
    "gandalf_power = []\n",
    "saruman_power = []"
   ]
  },
  {
   "cell_type": "markdown",
   "metadata": {},
   "source": [
    "#### 4. The battle starts! Using the variables you've created above, code the execution of spell clashes. Remember that a sorcerer wins if he succeeds in winning 3 spell clashes in a row. \n",
    "If a clash ends up in a tie, the counter of wins in a row is not restarted to 0. Remember to print who is the winner of the battle. "
   ]
  },
  {
   "cell_type": "code",
   "execution_count": 88,
   "metadata": {},
   "outputs": [
    {
     "name": "stdout",
     "output_type": "stream",
     "text": [
      "Gandalf powers are: [50, 40, 40, 10, 50, 10, 40, 50, 50, 50]\n",
      "Saruman powers are: [45, 45, 25, 50, 25, 40, 10, 45, 10, 10]\n",
      "Gandalf is a winner of the battle, he won three clashes in the row  1 times.\n"
     ]
    }
   ],
   "source": [
    "gandalf_power = []\n",
    "saruman_power = []\n",
    "g_wins_count = 0\n",
    "s_wins_count = 0\n",
    "g_wins = 0\n",
    "s_wins = 0\n",
    "\n",
    "for i in gandalf: \n",
    "    for k,v in POWER.items():   \n",
    "        if i==k:\n",
    "            gandalf_power.append(v)  \n",
    "            \n",
    "            \n",
    "for i in saruman:\n",
    "    for k,v in POWER.items():   \n",
    "        if i==k:\n",
    "            saruman_power.append(v)  \n",
    "                  \n",
    "print(\"Gandalf powers are:\", gandalf_power)\n",
    "print(\"Saruman powers are:\", saruman_power)\n",
    "\n",
    "\n",
    "#gandalf_power = [10,10,10,10,10,10,10,10,10,10]\n",
    "#saruman_power = [5,5,5,5,5,5,5,5,5,5]\n",
    "\n",
    "x = 0\n",
    "while x < len(gandalf_power):\n",
    "    \n",
    "    if gandalf_power[x] > saruman_power[x]:\n",
    "        g_wins_count += 1\n",
    "        s_wins_count = 0\n",
    "        x += 1\n",
    "        #print(\"check point 1: gwinscount:\",g_wins_count, \"swinscount\",s_wins_count)\n",
    "        if g_wins_count >= 3:\n",
    "            g_wins += 1\n",
    "            g_wins_count = 0\n",
    "        \n",
    "    elif gandalf_power[x] < saruman_power[x]:\n",
    "        s_wins_count += 1\n",
    "        g_wins_count = 0\n",
    "        x += 1\n",
    "        #print(\"check point 2: gwinscount:\",g_wins_count, \"swinscount\",s_wins_count)\n",
    "        if s_wins_count >= 3:\n",
    "            s_wins += 1\n",
    "            s_wins_count = 0\n",
    "       \n",
    "    else:\n",
    "        x += 1\n",
    "        \n",
    "#print(g_wins)\n",
    "#print(s_wins)\n",
    "\n",
    "if g_wins > s_wins:\n",
    "    print(\"Gandalf is a winner of the battle, he won three clashes in the row \",g_wins,\"times.\")\n",
    "elif g_wins < s_wins:\n",
    "    print(\"Saruman is a winner of the battle, he won three clashes in the row\",s_wins,\"times.\")\n",
    "else:\n",
    "    print(\"Tie in the battle\")\n",
    "     \n",
    "        \n",
    "     \n",
    "            "
   ]
  },
  {
   "cell_type": "markdown",
   "metadata": {},
   "source": [
    "#### 5. Find the average spell power of Gandalf and Saruman. "
   ]
  },
  {
   "cell_type": "code",
   "execution_count": 89,
   "metadata": {},
   "outputs": [
    {
     "name": "stdout",
     "output_type": "stream",
     "text": [
      "Gandalf's average spell power is: 39.0\n",
      "Saruman's average spell power is: 30.5\n"
     ]
    }
   ],
   "source": [
    "g_avg_spell_power = sum(gandalf_power)/ len(gandalf_power)\n",
    "s_avg_spell_power = sum(saruman_power)/ len(saruman_power)\n",
    "print(\"Gandalf's average spell power is:\",g_avg_spell_power)\n",
    "print(\"Saruman's average spell power is:\",s_avg_spell_power)"
   ]
  },
  {
   "cell_type": "markdown",
   "metadata": {},
   "source": [
    "#### 6. Find the standard deviation of the spell power of Gandalf and Saruman. "
   ]
  },
  {
   "cell_type": "code",
   "execution_count": 95,
   "metadata": {},
   "outputs": [
    {
     "name": "stdout",
     "output_type": "stream",
     "text": [
      "Gandalf singular deviations are: [11.0, 1.0, 1.0, -29.0, 11.0, -29.0, 1.0, 11.0, 11.0, 11.0]\n",
      "Saruman singular deviations are: [14.5, 14.5, -5.5, 19.5, -5.5, 9.5, -20.5, 14.5, -20.5, -20.5]\n",
      "Gandalf's squared singular deviations are: [121.0, 1.0, 1.0, 841.0, 121.0, 841.0, 1.0, 121.0, 121.0, 121.0]\n",
      "Saruman's squared singular deviations are: [210.25, 210.25, 30.25, 380.25, 30.25, 90.25, 420.25, 210.25, 420.25, 420.25]\n",
      "Standard deviation of Gandalf spells' power is : 15.132745950421556\n",
      "Standard deviation of Saruman spells' power is : 15.56438241627338\n"
     ]
    }
   ],
   "source": [
    "#order of tasks to count standard dev:\n",
    "#powers list\n",
    "#avg_power\n",
    "#singular_deviations (power[0]-avg_power, ...)\n",
    "#squared_singular_deviations\n",
    "#standard dev =square root of (sum(squared_singular_deviations)/len(displacements))\n",
    "\n",
    "\n",
    "g_sing_devs = []\n",
    "s_sing_devs = []\n",
    "x=0\n",
    "while x < 10:\n",
    "    g_sing_devs.append(gandalf_power[x] - g_avg_spell_power)\n",
    "    s_sing_devs.append(saruman_power[x] - s_avg_spell_power)\n",
    "    x +=1\n",
    "    \n",
    "print(\"Gandalf singular deviations are:\",g_sing_devs)\n",
    "print(\"Saruman singular deviations are:\",s_sing_devs)\n",
    "\n",
    "g_squared_sing_devs = []\n",
    "s_squared_sing_devs = []\n",
    "x = 0\n",
    "for g_sing_dev in g_sing_devs:\n",
    "    g_squared_sing_devs.append(g_sing_dev**2)\n",
    "print(\"Gandalf's squared singular deviations are:\",g_squared_sing_devs)\n",
    "\n",
    "for s_sing_dev in s_sing_devs:\n",
    "    s_squared_sing_devs.append(s_sing_dev**2)\n",
    "print(\"Saruman's squared singular deviations are:\",s_squared_sing_devs)\n",
    "\n",
    "import math\n",
    "g_standard_dev = math.sqrt(sum(g_squared_sing_devs)/len(gandalf_power))\n",
    "s_standard_dev = math.sqrt(sum(s_squared_sing_devs)/len(saruman_power))\n",
    "print(\"Standard deviation of Gandalf spells' power is :\",g_standard_dev)\n",
    "print(\"Standard deviation of Saruman spells' power is :\",s_standard_dev)\n"
   ]
  },
  {
   "cell_type": "code",
   "execution_count": null,
   "metadata": {},
   "outputs": [],
   "source": []
  }
 ],
 "metadata": {
  "kernelspec": {
   "display_name": "Python 3",
   "language": "python",
   "name": "python3"
  },
  "language_info": {
   "codemirror_mode": {
    "name": "ipython",
    "version": 3
   },
   "file_extension": ".py",
   "mimetype": "text/x-python",
   "name": "python",
   "nbconvert_exporter": "python",
   "pygments_lexer": "ipython3",
   "version": "3.7.6"
  }
 },
 "nbformat": 4,
 "nbformat_minor": 2
}
