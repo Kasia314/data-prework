{
 "cells": [
  {
   "cell_type": "markdown",
   "metadata": {},
   "source": [
    "<img src=\"https://bit.ly/2VnXWr2\" width=\"100\" align=\"left\">"
   ]
  },
  {
   "cell_type": "markdown",
   "metadata": {},
   "source": [
    "# The Snail and the Well\n",
    "\n",
    "A snail falls at the bottom of a 125 cm well. Each day the snail rises 30 cm. But at night, while sleeping, slides 20 cm because the walls are wet. How many days does it take for the snail to escape the well?\n",
    "\n",
    "**Hint**: The snail gets out of the well when it surpasses the 125cm of height.\n",
    "\n",
    "## Tools\n",
    "\n",
    "1. Loop: **while**\n",
    "2. Conditional statements: **if-else**\n",
    "3. Function: **print()**\n",
    "\n",
    "## Tasks\n",
    "\n",
    "#### 1. Assign the challenge data to variables with representative names: `well_height`, `daily_distance`, `nightly_distance` and `snail_position`."
   ]
  },
  {
   "cell_type": "markdown",
   "metadata": {},
   "source": [
    "#### 2. Create a variable `days` to keep count of the days that pass until the snail escapes the well. "
   ]
  },
  {
   "cell_type": "code",
   "execution_count": 46,
   "metadata": {},
   "outputs": [],
   "source": [
    "well_height = 125\n",
    "daily_distance = 30\n",
    "nightly_distance = 20\n",
    "snail_position = 0"
   ]
  },
  {
   "cell_type": "code",
   "execution_count": 47,
   "metadata": {},
   "outputs": [],
   "source": [
    "days = 0"
   ]
  },
  {
   "cell_type": "markdown",
   "metadata": {},
   "source": [
    "#### 3. Find the solution to the challenge using the variables defined above. "
   ]
  },
  {
   "cell_type": "code",
   "execution_count": 48,
   "metadata": {},
   "outputs": [],
   "source": [
    "while snail_position <= well_height:\n",
    "    snail_position = snail_position + daily_distance - nightly_distance\n",
    "    days += 1\n",
    "     "
   ]
  },
  {
   "cell_type": "markdown",
   "metadata": {},
   "source": [
    "#### 4. Print the solution."
   ]
  },
  {
   "cell_type": "code",
   "execution_count": 49,
   "metadata": {},
   "outputs": [
    {
     "name": "stdout",
     "output_type": "stream",
     "text": [
      "To escape the well, it takes the snail this many days: 13\n"
     ]
    }
   ],
   "source": [
    "print(\"To escape the well, it takes the snail this many days:\", days)"
   ]
  },
  {
   "cell_type": "code",
   "execution_count": 10,
   "metadata": {},
   "outputs": [
    {
     "name": "stdout",
     "output_type": "stream",
     "text": [
      "13\n"
     ]
    }
   ],
   "source": [
    "well_height = 125\n",
    "daily_distance = 30\n",
    "nightly_distance = 20\n",
    "snail_position = 0\n",
    "days = 0\n",
    "\n",
    "while snail_position <= well_height:\n",
    "    snail_position = snail_position + daily_distance - nightly_distance\n",
    "    days += 1\n",
    "    \n",
    "print(days)"
   ]
  },
  {
   "cell_type": "code",
   "execution_count": null,
   "metadata": {},
   "outputs": [],
   "source": []
  },
  {
   "cell_type": "markdown",
   "metadata": {},
   "source": [
    "## Bonus\n",
    "The distance traveled by the snail each day is now defined by a list.\n",
    "```\n",
    "advance_cm = [30, 21, 33, 77, 44, 45, 23, 45, 12, 34, 55]\n",
    "```\n",
    "On the first day, the snail rises 30cm but during the night it slides 20cm. On the second day, the snail rises 21cm but during the night it slides 20cm, and so on. \n",
    "\n",
    "#### 1. How many days does it take for the snail to escape the well?\n",
    "Follow the same guidelines as in the previous challenge.\n",
    "\n",
    "**Hint**: Remember that the snail gets out of the well when it surpasses the 125cm of height."
   ]
  },
  {
   "cell_type": "code",
   "execution_count": 44,
   "metadata": {},
   "outputs": [
    {
     "name": "stdout",
     "output_type": "stream",
     "text": [
      "To escape the well, it takes the snail this many days: 6\n"
     ]
    }
   ],
   "source": [
    "advance_cm = [30, 21, 33, 77, 44, 45, 23, 45, 12, 34, 55]\n",
    "snail_position = 0\n",
    "days = 0\n",
    "while snail_position <= well_height:\n",
    "    snail_position = snail_position + advance_cm[days] - nightly_distance\n",
    "    days += 1\n",
    "\n",
    "print(\"To escape the well, it takes the snail this many days:\",days)"
   ]
  },
  {
   "cell_type": "markdown",
   "metadata": {},
   "source": [
    "#### 2. What is its maximum displacement in one day? And its minimum? Calculate the displacement using only the travel distance of the days used to get out of the well. \n",
    "**Hint**: Remember that displacement means the total distance risen taking into account that the snail slides at night.  "
   ]
  },
  {
   "cell_type": "code",
   "execution_count": 55,
   "metadata": {},
   "outputs": [
    {
     "name": "stdout",
     "output_type": "stream",
     "text": [
      "Max. displacement in one day is: 57\n",
      "Min. displacement in one day is: 1\n"
     ]
    }
   ],
   "source": [
    "displacements = []\n",
    "x = 0\n",
    "days = 6\n",
    "while x <= days-1:\n",
    "    displacement = advance_cm[x] - nightly_distance\n",
    "    displacements.append(displacement)\n",
    "    x +=1\n",
    "    \n",
    "print(\"Max. displacement in one day is:\", max(displacements))\n",
    "print(\"Min. displacement in one day is:\", min(displacements))"
   ]
  },
  {
   "cell_type": "markdown",
   "metadata": {},
   "source": [
    " 3. What is its average progress? Take into account the snail slides at night."
   ]
  },
  {
   "cell_type": "code",
   "execution_count": 13,
   "metadata": {},
   "outputs": [
    {
     "name": "stdout",
     "output_type": "stream",
     "text": [
      "Displacements list: [10, 1, 13, 57, 24, 25]\n",
      "Progress list: [-9, 12, 44, -33, 1]\n",
      "Average progress is: 3.0\n"
     ]
    }
   ],
   "source": [
    "# by progress I understand the difference between the displacements between two days\n",
    "\n",
    "print(\"Displacements list:\", displacements)\n",
    "progress_list = []\n",
    "p = 0\n",
    "\n",
    "while p <= (days-2):\n",
    "    progress = displacements[p+1] - displacements[p]\n",
    "    progress_list.append(progress)\n",
    "    p +=1\n",
    "    \n",
    "print(\"Progress list:\", progress_list)\n",
    "avg_progress = sum(progress_list)/len(progress_list)\n",
    "print(\"Average progress is:\", avg_progress)\n"
   ]
  },
  {
   "cell_type": "markdown",
   "metadata": {},
   "source": [
    "#### 4. What is the standard deviation of its displacement? Take into account the snail slides at night."
   ]
  },
  {
   "cell_type": "code",
   "execution_count": 33,
   "metadata": {},
   "outputs": [
    {
     "name": "stdout",
     "output_type": "stream",
     "text": [
      "avg_displacement is: 21.666666666666668\n",
      "singular deviations are: [-11.666666666666668, -20.666666666666668, -8.666666666666668, 35.33333333333333, 2.333333333333332, 3.333333333333332]\n",
      "squared singular deviations are: [136.11111111111114, 427.11111111111114, 75.11111111111113, 1248.4444444444441, 5.444444444444439, 11.111111111111104]\n",
      "standard deviation of displacements is: 17.81073334319006\n"
     ]
    }
   ],
   "source": [
    "#order of tasks to count standard dev:\n",
    "#displacements list\n",
    "#avg_displacement\n",
    "#singular_deviations (displacement[0]-avg_displacement, ...)\n",
    "#squared_singular_deviations\n",
    "#standard dev =square root of (squared_singular_deviations/len(displacements))\n",
    "\n",
    "avg_displacement = sum(displacements)/len(displacements)\n",
    "print(\"avg_displacement is:\",avg_displacement)\n",
    "\n",
    "singular_deviations = []\n",
    "x=0\n",
    "while x <= 5:\n",
    "    singular_deviations.append(displacements[x] - avg_displacement)\n",
    "    x +=1\n",
    "    \n",
    "print(\"singular deviations are:\",singular_deviations)\n",
    "\n",
    "squared_singular_deviations = []\n",
    "x = 0\n",
    "for singular_deviation in singular_deviations:\n",
    "    squared_singular_deviations.append(singular_deviation**2)\n",
    "print(\"squared singular deviations are:\",squared_singular_deviations)\n",
    "\n",
    "\n",
    "#standard_dev = (sum(squared_singular_deviations)/len(displacements))**0,5 - doesn't work, i don't know why\n",
    "#a = 9 ** 0,5\n",
    "#print(\"square root from 9 is:\",a) --> gives result of (1, 5) -- why??\n",
    "import math\n",
    "standard_dev = math.sqrt(sum(squared_singular_deviations)/len(displacements))\n",
    "print(\"standard deviation of displacements is:\",standard_dev)\n",
    "\n",
    "\n",
    "\n"
   ]
  },
  {
   "cell_type": "code",
   "execution_count": null,
   "metadata": {},
   "outputs": [],
   "source": []
  }
 ],
 "metadata": {
  "kernelspec": {
   "display_name": "Python 3",
   "language": "python",
   "name": "python3"
  },
  "language_info": {
   "codemirror_mode": {
    "name": "ipython",
    "version": 3
   },
   "file_extension": ".py",
   "mimetype": "text/x-python",
   "name": "python",
   "nbconvert_exporter": "python",
   "pygments_lexer": "ipython3",
   "version": "3.7.6"
  }
 },
 "nbformat": 4,
 "nbformat_minor": 2
}
